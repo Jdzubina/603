{
  "nbformat": 4,
  "nbformat_minor": 0,
  "metadata": {
    "colab": {
      "provenance": [],
      "authorship_tag": "ABX9TyMwiuGNVd1JnXpGP1HcJBMu",
      "include_colab_link": true
    },
    "kernelspec": {
      "name": "python3",
      "display_name": "Python 3"
    },
    "language_info": {
      "name": "python"
    }
  },
  "cells": [
    {
      "cell_type": "markdown",
      "metadata": {
        "id": "view-in-github",
        "colab_type": "text"
      },
      "source": [
        "<a href=\"https://colab.research.google.com/github/Jdzubina/Python---Data-and-AI/blob/main/Convolutional%20Neural%20Networks.ipynb\" target=\"_parent\"><img src=\"https://colab.research.google.com/assets/colab-badge.svg\" alt=\"Open In Colab\"/></a>"
      ]
    },
    {
      "cell_type": "markdown",
      "source": [
        "**Convolutional Neural Networks**"
      ],
      "metadata": {
        "id": "aYcYoT_BKawQ"
      }
    },
    {
      "cell_type": "markdown",
      "source": [
        "Convolutional Neural Networks (CNNs) are a type of neural network particularly good at processing images. They work by using special layers called convolutional layers that automatically detect important features in images, like edges, textures, and shapes. These layers scan the image with small filters and create feature maps that highlight these important parts. CNNs are widely used for tasks such as image recognition, object detection, and facial recognition because they can handle the complex structure of images very efficiently. They are also used in applications like self-driving cars, where they help recognize and understand surroundings."
      ],
      "metadata": {
        "id": "bxPRkwfpKceV"
      }
    },
    {
      "cell_type": "markdown",
      "source": [
        "**Convolutional Neural Networks - LeNet to recognize handwritten digits - Code Sample**"
      ],
      "metadata": {
        "id": "AhKTzPoDRcT8"
      }
    },
    {
      "cell_type": "code",
      "execution_count": null,
      "metadata": {
        "id": "R2WD_RAvJDwd"
      },
      "outputs": [],
      "source": [
        "# Import Modules\n",
        "import numpy as np\n",
        "import pandas as pd\n",
        "import matplotlib.pyplot as plt\n",
        "%matplotlib inline"
      ]
    },
    {
      "cell_type": "code",
      "source": [
        "import tensorflow as tf\n",
        "from tensorflow.keras.layers import Flatten\n",
        "\n",
        "class my_LeNet:\n",
        "    def __init__(self, d, n, mu = 0, sigma = 0.1, lr = 0.001):\n",
        "        self.mu = mu\n",
        "        self.sigma = sigma\n",
        "        self.n = n\n",
        "        self.x = tf.placeholder(tf.float32, (None, d, d, 1))  # place holder for input image dimension 28 x 28\n",
        "        self.y = tf.placeholder(tf.int32, (None,n))\n",
        "        self.keep_prob = tf.placeholder(tf.float32) # probability to keep units\n",
        "\n",
        "\n",
        "        self.logits = self.model(self.x)\n",
        "\n",
        "        cross_entropy = tf.nn.softmax_cross_entropy_with_logits(labels=self.y, logits=self.logits)\n",
        "        self.loss = tf.reduce_mean(cross_entropy)\n",
        "        optimizer = tf.train.AdamOptimizer(learning_rate = lr)\n",
        "        self.train = optimizer.minimize(self.loss)\n",
        "        correct_prediction = tf.equal(tf.argmax(self.logits, 1), tf.argmax(self.y, 1))\n",
        "        self.accuracy = tf.reduce_mean(tf.cast(correct_prediction, tf.float32))\n",
        "        init = tf.global_variables_initializer()\n",
        "        self.sess = tf.Session()\n",
        "        self.sess.run(init)\n",
        "        self.saver = tf.train.Saver()\n",
        "\n",
        "\n",
        "\n",
        "    def model(self,x):\n",
        "        # Build Architecture\n",
        "        keep_prob = 0.7\n",
        "        # Layer 1: Convolutional. Filter 5x5 num_filters = 6 Input_depth =1\n",
        "        conv1_W = tf.Variable(tf.truncated_normal(shape=(5, 5, 1, 6), mean = self.mu, stddev = self.sigma))\n",
        "        conv1_b = tf.Variable(tf.zeros(6))\n",
        "        conv1   = tf.nn.conv2d(x, conv1_W, strides=[1, 1, 1, 1], padding='VALID') + conv1_b\n",
        "        conv1 = tf.nn.relu(conv1)\n",
        "\n",
        "        # Max Pool 1\n",
        "        self.conv1 = tf.nn.max_pool(conv1, ksize=[1, 2, 2, 1], strides=[1, 2, 2, 1], padding='VALID')\n",
        "\n",
        "\n",
        "        # Layer 2: Convolutional. Filter 5x5 num_filters = 16  Input_depth =6\n",
        "        conv2_W = tf.Variable(tf.truncated_normal(shape=(5, 5, 6, 16), mean = self.mu, stddev = self.sigma))\n",
        "        conv2_b = tf.Variable(tf.zeros(16))\n",
        "        conv2   = tf.nn.conv2d(self.conv1, conv2_W, strides=[1, 1, 1, 1], padding='VALID') + conv2_b\n",
        "        conv2 = tf.nn.relu(conv2)\n",
        "\n",
        "        # Max Pool 2.\n",
        "        self.conv2 = tf.nn.max_pool(conv2, ksize=[1, 2, 2, 1], strides=[1, 2, 2, 1], padding='VALID')\n",
        "\n",
        "        # Flatten.\n",
        "        fc0 = Flatten()(self.conv2)\n",
        "        print(\"x shape:\",fc0.get_shape())\n",
        "\n",
        "        # Layer 3: Fully Connected. Input = fc0.get_shape[-1]. Output = 120.\n",
        "        fc1_W = tf.Variable(tf.truncated_normal(shape=(256, 120), mean = self.mu, stddev = self.sigma))\n",
        "        fc1_b = tf.Variable(tf.zeros(120))\n",
        "        fc1   = tf.matmul(fc0, fc1_W) + fc1_b\n",
        "        fc1    = tf.nn.relu(fc1)\n",
        "\n",
        "        # Dropout\n",
        "        x = tf.nn.dropout(fc1, keep_prob)\n",
        "\n",
        "        # Layer 4: Fully Connected. Input = 120. Output = 84.\n",
        "        fc2_W  = tf.Variable(tf.truncated_normal(shape=(120, 84), mean = self.mu, stddev = self.sigma))\n",
        "        fc2_b  = tf.Variable(tf.zeros(84))\n",
        "        fc2    = tf.matmul(x, fc2_W) + fc2_b\n",
        "        fc2    = tf.nn.relu(fc2)\n",
        "\n",
        "        # Dropout\n",
        "        x = tf.nn.dropout(fc2, keep_prob)\n",
        "\n",
        "        # Layer 6: Fully Connected. Input = 120. Output = n_classes.\n",
        "        fc3_W  = tf.Variable(tf.truncated_normal(shape=(84, self.n), mean = self.mu, stddev = self.sigma))\n",
        "        fc3_b  = tf.Variable(tf.zeros(self.n))\n",
        "        logits = tf.matmul(x, fc3_W) + fc3_b\n",
        "        #logits = tf.nn.softmax(logits)\n",
        "        return logits\n",
        "\n",
        "    def fit(self,X,Y,X_val,Y_val,epochs=10, batch_size=100):\n",
        "        X_train, y_train = X, Y\n",
        "        num_examples = len(X_train)\n",
        "        l = []\n",
        "        val_l = []\n",
        "        max_val = 0\n",
        "        for i in range(epochs):\n",
        "            total = 0\n",
        "            for offset in range(0, num_examples, batch_size):  # Learn Batch wise\n",
        "                end = offset + batch_size\n",
        "                batch_x, batch_y = X_train[offset:end], y_train[offset:end]\n",
        "                _, loss = self.sess.run([self.train,self.loss], feed_dict={self.x: batch_x, self.y: batch_y})\n",
        "                total += loss\n",
        "            l.append(total/num_examples)\n",
        "            accuracy_val = self.sess.run(self.accuracy, feed_dict={self.x: X_val, self.y: Y_val})\n",
        "            accuracy = self.sess.run(self.accuracy, feed_dict={self.x: X, self.y: Y})\n",
        "            loss_val = self.sess.run(self.loss, feed_dict={self.x:X_val,self.y:Y_val})\n",
        "            val_l.append(loss_val)\n",
        "            print(\"EPOCH {}/{} loss is {:.3f} training_accuracy {:.3f} and validation accuracy is {:.3f}\".\\\n",
        "                  format(i+1,epochs,total/num_examples, accuracy, accuracy_val))\n",
        "            if accuracy_val > max_val:\n",
        "                save_path = self.saver.save(self.sess, \"/tmp/lenet1.ckpt\")\n",
        "                print(\"Model saved in path: %s\" % save_path)\n",
        "                max_val = accuracy_val\n",
        "\n",
        "        self.saver.restore(self.sess, \"/tmp/lenet1.ckpt\")\n",
        "        print(\"Restored model with highest validation accuracy\")\n",
        "        accuracy_val = self.sess.run(self.accuracy, feed_dict={self.x: X_val, self.y: Y_val})\n",
        "        accuracy = self.sess.run(self.accuracy, feed_dict={self.x: X, self.y: Y})\n",
        "        return l,val_l, accuracy, accuracy_val\n",
        "\n",
        "    def predict(self, X):\n",
        "        return self.sess.run(self.logits,feed_dict={self.x:X})"
      ],
      "metadata": {
        "id": "ABkO-XaSLLw7"
      },
      "execution_count": null,
      "outputs": []
    },
    {
      "cell_type": "code",
      "source": [
        "import pandas as pd\n",
        "import numpy as np\n",
        "\n",
        "def load_data():\n",
        "    # Read the data and create train, validation, and test dataset\n",
        "    data = pd.read_csv('train.csv')\n",
        "    train = data.sample(frac=0.8, random_state=255)   # This ensures always 80% of data is training and rest Validation unlike using np.random\n",
        "    val = data.drop(train.index)\n",
        "    test = pd.read_csv('test.csv')\n",
        "    return train, val, test\n",
        "\n",
        "def create_data(df):\n",
        "    labels = df.loc[:]['label']\n",
        "    y_one_hot = pd.get_dummies(labels).astype(np.uint8)\n",
        "    y = y_one_hot.values # One Hot encode the labels\n",
        "    x = df.iloc[:,1:].values\n",
        "    x = x.astype(float)  # Changed from np.float to float\n",
        "    # Normalize data\n",
        "    x = np.multiply(x, 1.0 / 255.0)\n",
        "    x = x.reshape(-1, 28, 28, 1) # return each images as 28 x 28 x 1\n",
        "    return x, y\n",
        "\n",
        "train, val, test = load_data()\n",
        "\n",
        "# Check the shape of the train, validation, and test data\n",
        "print(\"Train shape:\", train.shape)\n",
        "print(\"Validation shape:\", val.shape)\n",
        "print(\"Test shape:\", test.shape)\n",
        "\n",
        "X_train, y_train = create_data(train)\n",
        "X_val, y_val = create_data(val)\n",
        "\n",
        "# Check the shape of the test data before reshaping\n",
        "print(\"X_test shape before reshaping:\", test.shape)\n",
        "\n",
        "X_test = (test.iloc[:, 1:].values).astype(float)  # Changed from np.float to float\n",
        "X_test = np.multiply(X_test, 1.0 / 255.0)\n",
        "print(\"X_test shape before final reshaping:\", X_test.shape)\n",
        "\n",
        "# Reshape test data\n",
        "X_test = X_test.reshape(-1, 28, 28, 1)  # return each image as 28 x 28 x 1\n",
        "\n",
        "# Check the final shape of the test data\n",
        "print(\"X_test shape after reshaping:\", X_test.shape)"
      ],
      "metadata": {
        "colab": {
          "base_uri": "https://localhost:8080/"
        },
        "id": "dotRxt6GOzGR",
        "outputId": "b6914b99-1321-4da0-9521-0b5bf64dd3bc"
      },
      "execution_count": null,
      "outputs": [
        {
          "output_type": "stream",
          "name": "stdout",
          "text": [
            "Train shape: (48000, 785)\n",
            "Validation shape: (12000, 785)\n",
            "Test shape: (10000, 785)\n",
            "X_test shape before reshaping: (10000, 785)\n",
            "X_test shape before final reshaping: (10000, 784)\n",
            "X_test shape after reshaping: (10000, 28, 28, 1)\n"
          ]
        }
      ]
    },
    {
      "cell_type": "code",
      "source": [
        "def load_data():\n",
        "    # Read the data and create train, validation and test dataset\n",
        "    data = pd.read_csv('train.csv')\n",
        "    train = data.sample(frac=0.8, random_state=255)   # This ensures always 80% of data is training and rest Validation  unlike using np.random\n",
        "    val = data.drop(train.index)\n",
        "    test = pd.read_csv('test.csv')\n",
        "    return train, val, test\n",
        "\n",
        "def create_data(df):\n",
        "    labels = df.loc[:]['label']\n",
        "    y_one_hot = pd.get_dummies(labels).astype(np.uint8)\n",
        "    y = y_one_hot.values # One Hot encode the labels\n",
        "    x = df.iloc[:,1:].values\n",
        "    x = x.astype(float) # Use float instead of np.float\n",
        "    # Normalize data\n",
        "    x = np.multiply(x, 1.0 / 255.0)\n",
        "    x = x.reshape(-1, 28, 28, 1) # return each images as 28 x 28 x 1\n",
        "    return x,y\n",
        "\n",
        "train, val, test = load_data()\n",
        "X_train, y_train = create_data(train)\n",
        "X_val, y_val = create_data(val)\n",
        "\n",
        "# Extract features and labels from the test set\n",
        "X_test = test.iloc[:, 1:].values.astype(float)\n",
        "y_test_labels = test.iloc[:, 0].values  # Extract labels for the test set\n",
        "\n",
        "# Normalize test data\n",
        "X_test = np.multiply(X_test, 1.0 / 255.0)\n",
        "\n",
        "# Reshape test data to the correct dimensions (28 x 28 x 1)\n",
        "X_test = X_test.reshape(-1, 28, 28, 1) # return each image as 28 x 28 x 1\n",
        "\n",
        "# One-hot encode the test labels\n",
        "# Convert y_test_labels.max() to integer explicitly\n",
        "y_test = np.zeros((y_test_labels.size, int(y_test_labels.max())+1))\n",
        "y_test[np.arange(y_test_labels.size), y_test_labels.astype(int)] = 1 # Also convert y_test_labels to int for indexing\n",
        "\n",
        "print(\"X_test shape:\", X_test.shape)\n",
        "print(\"y_test shape:\", y_test.shape)"
      ],
      "metadata": {
        "colab": {
          "base_uri": "https://localhost:8080/"
        },
        "id": "jL-88nKUQKTw",
        "outputId": "9f9a852c-cc71-4dac-ae26-8fb2589c22ce"
      },
      "execution_count": null,
      "outputs": [
        {
          "output_type": "stream",
          "name": "stdout",
          "text": [
            "X_test shape: (10000, 28, 28, 1)\n",
            "y_test shape: (10000, 1)\n"
          ]
        }
      ]
    },
    {
      "cell_type": "code",
      "source": [
        "# take subset of training data\n",
        "x_train_subset = X_train[:12]\n",
        "\n",
        "\n",
        "# visualize subset of training data\n",
        "fig = plt.figure(figsize=(20,2))\n",
        "for i in range(0, len(x_train_subset)):\n",
        "    ax = fig.add_subplot(1, 12, i+1)\n",
        "    ax.imshow(x_train_subset[i].reshape(28,28), cmap='gray')\n",
        "fig.suptitle('Subset of Original Training Images', fontsize=20)\n",
        "plt.show()"
      ],
      "metadata": {
        "colab": {
          "base_uri": "https://localhost:8080/",
          "height": 212
        },
        "id": "-xcMLlgfQjQl",
        "outputId": "0092fdae-4d37-4ee8-84f2-5c93f4e4b8c7"
      },
      "execution_count": null,
      "outputs": [
        {
          "output_type": "display_data",
          "data": {
            "text/plain": [
              "<Figure size 2000x200 with 12 Axes>"
            ],
            "image/png": "[encoded data removed]"
          },
          "metadata": {}
        }
      ]
    },
    {
      "cell_type": "code",
      "source": [
        "n_train = len(X_train)\n",
        "\n",
        "# Number of validation examples\n",
        "n_validation = len(X_val)\n",
        "\n",
        "# Number of testing examples.\n",
        "n_test = len(X_test)\n",
        "\n",
        "# What's the shape of an handwritten digits?\n",
        "image_shape = X_train.shape[1:-1]\n",
        "\n",
        "# How many unique classes/labels there are in the dataset.\n",
        "n_classes = y_train.shape[-1]\n",
        "\n",
        "print(\"Number of training examples =\", n_train)\n",
        "print(\"Number of Validation examples =\", n_validation)\n",
        "print(\"Number of testing examples =\", n_test)\n",
        "print(\"Image data shape =\", image_shape)\n",
        "print(\"Number of classes =\", n_classes)"
      ],
      "metadata": {
        "colab": {
          "base_uri": "https://localhost:8080/"
        },
        "id": "9ylwAUwnQmHO",
        "outputId": "b24d2735-6b4f-45c4-ad2f-00746d2f0c3b"
      },
      "execution_count": null,
      "outputs": [
        {
          "output_type": "stream",
          "name": "stdout",
          "text": [
            "Number of training examples = 48000\n",
            "Number of Validation examples = 12000\n",
            "Number of testing examples = 10000\n",
            "Image data shape = (28, 28)\n",
            "Number of classes = 10\n"
          ]
        }
      ]
    },
    {
      "cell_type": "code",
      "source": [
        "# Define the data values\n",
        "d = image_shape[0]\n",
        "n = n_classes\n",
        "from sklearn.utils import shuffle\n",
        "X_train, y_train = shuffle(X_train,y_train)"
      ],
      "metadata": {
        "id": "pJYduvxTQo4w"
      },
      "execution_count": null,
      "outputs": []
    },
    {
      "cell_type": "code",
      "source": [
        "import tensorflow as tf\n",
        "from tensorflow.keras.layers import Conv2D, MaxPooling2D, Flatten, Dense, Dropout, Input # import keras.layers\n",
        "from tensorflow.keras.models import Model # import keras.models\n",
        "\n",
        "class my_LeNet:\n",
        "    def __init__(self, d, n, mu=0, sigma=0.1, lr=0.001):\n",
        "        self.mu = mu\n",
        "        self.sigma = sigma\n",
        "        self.n = n\n",
        "        self.lr = lr\n",
        "        self.model = self.build_model(d, n)\n",
        "        self.model.compile(optimizer=tf.keras.optimizers.Adam(learning_rate=lr),\n",
        "                           loss=tf.keras.losses.CategoricalCrossentropy(from_logits=True),\n",
        "                           metrics=['accuracy'])\n",
        "\n",
        "    def build_model(self, d, n):\n",
        "        inputs = Input(shape=(d, d, 1))\n",
        "\n",
        "        # Layer 1: Convolutional. Filter 5x5 num_filters = 6 Input_depth =1\n",
        "        x = Conv2D(6, (5, 5), activation='relu', padding='valid')(inputs)\n",
        "        # Max Pool 1\n",
        "        x = MaxPooling2D((2, 2), strides=(2, 2), padding='valid')(x)\n",
        "\n",
        "        # Layer 2: Convolutional. Filter 5x5 num_filters = 16  Input_depth =6\n",
        "        x = Conv2D(16, (5, 5), activation='relu', padding='valid')(x)\n",
        "        # Max Pool 2.\n",
        "        x = MaxPooling2D((2, 2), strides=(2, 2), padding='valid')(x)\n",
        "\n",
        "        # Flatten.\n",
        "        x = Flatten()(x)\n",
        "\n",
        "        # Layer 3: Fully Connected. Input = Flattened output. Output = 120.\n",
        "        x = Dense(120, activation='relu')(x)\n",
        "        # Dropout\n",
        "        x = Dropout(0.3)(x)\n",
        "\n",
        "        # Layer 4: Fully Connected. Input = 120. Output = 84.\n",
        "        x = Dense(84, activation='relu')(x)\n",
        "        # Dropout\n",
        "        x = Dropout(0.3)(x)\n",
        "\n",
        "        # Layer 5: Fully Connected. Input = 84. Output = n_classes.\n",
        "        outputs = Dense(n)(x)\n",
        "\n",
        "        model = Model(inputs=inputs, outputs=outputs)\n",
        "        return model\n",
        "\n",
        "    def fit(self, X, Y, X_val, Y_val, epochs=10, batch_size=100):\n",
        "        history = self.model.fit(X, Y, epochs=epochs, batch_size=batch_size,\n",
        "                                 validation_data=(X_val, Y_val))\n",
        "        return history\n",
        "\n",
        "    def predict(self, X):\n",
        "        return self.model.predict(X)\n",
        "\n",
        "    def save(self, path):\n",
        "        self.model.save(path)\n",
        "\n",
        "    def load(self, path):\n",
        "        self.model = tf.keras.models.load_model(path)\n",
        "\n",
        "# Define the input dimensions and number of classes\n",
        "d = 28  # Image size 28x28\n",
        "n = 10  # Number of classes\n",
        "\n",
        "# Create the Model\n",
        "my_model = my_LeNet(d, n)\n",
        "\n",
        "# Train the Model\n",
        "history = my_model.fit(X_train, y_train, X_val, y_val, epochs=10, batch_size=100)"
      ],
      "metadata": {
        "colab": {
          "base_uri": "https://localhost:8080/"
        },
        "id": "7uSI_-NoQq5S",
        "outputId": "128068fa-017a-4dac-e611-f37b2363f52a"
      },
      "execution_count": null,
      "outputs": [
        {
          "output_type": "stream",
          "name": "stdout",
          "text": [
            "Epoch 1/10\n",
            "480/480 [==============================] - 22s 44ms/step - loss: 1.3649 - accuracy: 0.5175 - val_loss: 0.5187 - val_accuracy: 0.8313\n",
            "Epoch 2/10\n",
            "480/480 [==============================] - 26s 53ms/step - loss: 0.4897 - accuracy: 0.8449 - val_loss: 0.2935 - val_accuracy: 0.9124\n",
            "Epoch 3/10\n",
            "480/480 [==============================] - 24s 50ms/step - loss: 0.3382 - accuracy: 0.8970 - val_loss: 0.2250 - val_accuracy: 0.9304\n",
            "Epoch 4/10\n",
            "480/480 [==============================] - 22s 46ms/step - loss: 0.2717 - accuracy: 0.9172 - val_loss: 0.1873 - val_accuracy: 0.9420\n",
            "Epoch 5/10\n",
            "480/480 [==============================] - 22s 46ms/step - loss: 0.2301 - accuracy: 0.9305 - val_loss: 0.1659 - val_accuracy: 0.9486\n",
            "Epoch 6/10\n",
            "480/480 [==============================] - 23s 48ms/step - loss: 0.2048 - accuracy: 0.9391 - val_loss: 0.1564 - val_accuracy: 0.9507\n",
            "Epoch 7/10\n",
            "480/480 [==============================] - 22s 46ms/step - loss: 0.1853 - accuracy: 0.9442 - val_loss: 0.1376 - val_accuracy: 0.9582\n",
            "Epoch 8/10\n",
            "480/480 [==============================] - 22s 45ms/step - loss: 0.1721 - accuracy: 0.9486 - val_loss: 0.1275 - val_accuracy: 0.9599\n",
            "Epoch 9/10\n",
            "480/480 [==============================] - 27s 56ms/step - loss: 0.1577 - accuracy: 0.9521 - val_loss: 0.1169 - val_accuracy: 0.9630\n",
            "Epoch 10/10\n",
            "480/480 [==============================] - 22s 45ms/step - loss: 0.1471 - accuracy: 0.9553 - val_loss: 0.1171 - val_accuracy: 0.9629\n"
          ]
        }
      ]
    },
    {
      "cell_type": "code",
      "source": [
        "import matplotlib.pyplot as plt\n",
        "\n",
        "\n",
        "history = my_model.fit(X_train, y_train, X_val, y_val, epochs=10, batch_size=100)\n",
        "\n",
        "# Extract the loss and validation loss from the history object\n",
        "loss = history.history['loss'] # Updated to access loss from history object in TensorFlow 2.x\n",
        "val_loss = history.history['val_loss'] # Updated to access validation loss from history object in TensorFlow 2.x\n",
        "\n",
        "# Plotting the training and validation loss\n",
        "plt.plot(loss, label=\"Training Loss\")\n",
        "plt.plot(val_loss, label=\"Validation Loss\")\n",
        "plt.legend()\n",
        "plt.xlabel(\"Number of Epochs\")\n",
        "plt.ylabel(\"Loss\")\n",
        "plt.title(\"Training and Validation Loss over Epochs\")\n",
        "plt.show()"
      ],
      "metadata": {
        "colab": {
          "base_uri": "https://localhost:8080/",
          "height": 829
        },
        "id": "z7YjG4kIVyIj",
        "outputId": "c0ec93ce-f317-4c6b-d4c6-9ad0bb6c8301"
      },
      "execution_count": null,
      "outputs": [
        {
          "output_type": "stream",
          "name": "stdout",
          "text": [
            "Epoch 1/10\n",
            "480/480 [==============================] - 36s 75ms/step - loss: 0.1387 - accuracy: 0.9581 - val_loss: 0.1067 - val_accuracy: 0.9663\n",
            "Epoch 2/10\n",
            "480/480 [==============================] - 22s 47ms/step - loss: 0.1322 - accuracy: 0.9597 - val_loss: 0.1024 - val_accuracy: 0.9688\n",
            "Epoch 3/10\n",
            "480/480 [==============================] - 23s 48ms/step - loss: 0.1249 - accuracy: 0.9630 - val_loss: 0.0981 - val_accuracy: 0.9693\n",
            "Epoch 4/10\n",
            "480/480 [==============================] - 23s 48ms/step - loss: 0.1187 - accuracy: 0.9639 - val_loss: 0.0955 - val_accuracy: 0.9699\n",
            "Epoch 5/10\n",
            "480/480 [==============================] - 24s 51ms/step - loss: 0.1119 - accuracy: 0.9660 - val_loss: 0.0902 - val_accuracy: 0.9718\n",
            "Epoch 6/10\n",
            "480/480 [==============================] - 32s 67ms/step - loss: 0.1091 - accuracy: 0.9666 - val_loss: 0.0889 - val_accuracy: 0.9733\n",
            "Epoch 7/10\n",
            "480/480 [==============================] - 26s 54ms/step - loss: 0.1052 - accuracy: 0.9684 - val_loss: 0.0853 - val_accuracy: 0.9743\n",
            "Epoch 8/10\n",
            "480/480 [==============================] - 27s 57ms/step - loss: 0.1003 - accuracy: 0.9692 - val_loss: 0.0891 - val_accuracy: 0.9729\n",
            "Epoch 9/10\n",
            "480/480 [==============================] - 22s 45ms/step - loss: 0.0956 - accuracy: 0.9713 - val_loss: 0.0831 - val_accuracy: 0.9737\n",
            "Epoch 10/10\n",
            "480/480 [==============================] - 22s 46ms/step - loss: 0.0946 - accuracy: 0.9706 - val_loss: 0.0788 - val_accuracy: 0.9753\n"
          ]
        },
        {
          "output_type": "display_data",
          "data": {
            "text/plain": [
              "<Figure size 640x480 with 1 Axes>"
            ],
            "image/png": "[encoded data removed]"
          },
          "metadata": {}
        }
      ]
    },
    {
      "cell_type": "code",
      "source": [
        "# Extract the accuracy and validation accuracy from the history object\n",
        "accuracy = history.history['accuracy']  # Updated to access accuracy from history object in TensorFlow 2.x\n",
        "val_accuracy = history.history['val_accuracy']  # Updated to access validation accuracy from history object in TensorFlow 2.x\n",
        "\n",
        "# Calculate and report the accuracy on the training and validation set.\n",
        "# Using the last epoch's accuracy\n",
        "train_acc = accuracy[-1]\n",
        "val_acc = val_accuracy[-1]\n",
        "\n",
        "print(\"Accuracy on training dataset is {:.3f}% and on Validation dataset is {:.3f}%\".\n",
        "      format(train_acc * 100, val_acc * 100))"
      ],
      "metadata": {
        "colab": {
          "base_uri": "https://localhost:8080/"
        },
        "id": "Nl68wH1uW1fA",
        "outputId": "420e13ee-849d-400b-c130-32c5d28f12d0"
      },
      "execution_count": null,
      "outputs": [
        {
          "output_type": "stream",
          "name": "stdout",
          "text": [
            "Accuracy on training dataset is 97.060% and on Validation dataset is 97.525%\n"
          ]
        }
      ]
    },
    {
      "cell_type": "markdown",
      "source": [
        "**Use case examples**"
      ],
      "metadata": {
        "id": "3NDJR-5BKnvt"
      }
    },
    {
      "cell_type": "markdown",
      "source": [
        "Smartphones like the iPhone use Convolutional Neural Networks to analyze and recognize facial features for unlocking the device. The Convolutional Neural Networks processes the image captured by the front camera, extracting unique features of the user's face and then matches these features to the stored facial data."
      ],
      "metadata": {
        "id": "cA5C3CvcKoaO"
      }
    },
    {
      "cell_type": "markdown",
      "source": [
        "**My experience using this tool**"
      ],
      "metadata": {
        "id": "aA36bIHfKtLx"
      }
    },
    {
      "cell_type": "markdown",
      "source": [
        "Building a convuluted neural network using the LeNet architecture was challenging due to Google Collab no longer supporting from TensorFlow 1.x and changing to to 2.x. The primary issue was the deprecation of tf.placeholder, leading to several AttributeErrors. I initially used tf.compat.v1 to enable compatibility mode but ultimately changed back to TensorFlow 2.x practices using tf.keras. I became stuck on the \"# Create the Model my_model = my_LeNet(d, n)\" section of the code because I got an error saying  module 'tensorflow' has no attribute 'placeholder'\n",
        "\n",
        "Another major change involved modifying the import statements to be compatible with TensorFlow 2.x. Instead of using the deprecated tensorflow.contrib module, I updated the code to use the Keras API built into TensorFlow. I changed the import statement for flattening layers to:"
      ],
      "metadata": {
        "id": "KwLVys2TKtox"
      }
    },
    {
      "cell_type": "code",
      "source": [
        "import tensorflow as tf\n",
        "from tensorflow.keras.layers import Flatten"
      ],
      "metadata": {
        "id": "47YTA47xX0qL"
      },
      "execution_count": null,
      "outputs": []
    },
    {
      "cell_type": "markdown",
      "source": [
        "This resolved issues related to flattening layers in the network.\n",
        "\n",
        "While plotting the training and validation loss, I encountered an error because the variable loss was not defined. To resolve this, I updated the code to access the loss and validation loss from the history object returned by the fit method in TensorFlow 2.x:"
      ],
      "metadata": {
        "id": "HUom_3asX3an"
      }
    },
    {
      "cell_type": "code",
      "source": [
        "loss = history.history['loss']  # Updated to access loss from history object in TensorFlow 2.x\n",
        "val_loss = history.history['val_loss']  # Updated to access validation loss from history object in TensorFlow 2.x"
      ],
      "metadata": {
        "id": "Rg0CZIc8X27i"
      },
      "execution_count": null,
      "outputs": []
    },
    {
      "cell_type": "markdown",
      "source": [
        "This allowed me to plot the training and validation loss correctly.\n",
        "\n",
        "I also had to update the import statements for the layers and model definitions to use the Keras API:"
      ],
      "metadata": {
        "id": "IddwdURIYHro"
      }
    },
    {
      "cell_type": "code",
      "source": [
        "from tensorflow.keras.layers import Conv2D, MaxPooling2D, Flatten, Dense, Dropout, Input  # import keras.layers\n",
        "from tensorflow.keras.models import Model  # import keras.mode"
      ],
      "metadata": {
        "id": "JIkVkN9bYMMn"
      },
      "execution_count": null,
      "outputs": []
    },
    {
      "cell_type": "markdown",
      "source": [
        "I ran into a deprecation issue with the use of np.float. TensorFlow 2.x no longer supports np.float, and using it resulted in an AttributeError. I updated the code to use the built-in float type instead"
      ],
      "metadata": {
        "id": "amBnyiswYQ_u"
      }
    },
    {
      "cell_type": "code",
      "source": [
        "x = x.astype(float)  # Use float instead of np.float"
      ],
      "metadata": {
        "id": "j3QhBwdpZGBN"
      },
      "execution_count": null,
      "outputs": []
    },
    {
      "cell_type": "markdown",
      "source": [
        "This change ensured that the data type conversion was compatible with the updated TensorFlow version."
      ],
      "metadata": {
        "id": "JJhGx4WCYVds"
      }
    },
    {
      "cell_type": "markdown",
      "source": [
        "Finally I updated the code to access accuracy from the history object in TensorFlow 2.x:"
      ],
      "metadata": {
        "id": "QWvm92jMYxz0"
      }
    },
    {
      "cell_type": "code",
      "source": [
        "accuracy = history.history['accuracy']  # Updated to access accuracy from history object in TensorFlow 2.x"
      ],
      "metadata": {
        "id": "WnlOHy2eZPT0"
      },
      "execution_count": null,
      "outputs": []
    },
    {
      "cell_type": "markdown",
      "source": [
        "and to access validation accuracy from the history object in TensorFlow 2.x:\n",
        "\n",
        "\n"
      ],
      "metadata": {
        "id": "SKYsM0OsZP8W"
      }
    },
    {
      "cell_type": "code",
      "source": [
        "val_accuracy = history.history['val_accuracy']  # Updated to access validation accuracy from history object in TensorFlow 2.x"
      ],
      "metadata": {
        "id": "9AYmjHwZZQ6a"
      },
      "execution_count": null,
      "outputs": []
    },
    {
      "cell_type": "markdown",
      "source": [
        "With these changes, I was able to successfully build and train the LeNet architecture using TensorFlow 2.x. The process taught me a lot about adapting older code to newer frameworks and the importance of keeping up-to-date with library changes."
      ],
      "metadata": {
        "id": "pwzkygh_ZWFm"
      }
    },
    {
      "cell_type": "markdown",
      "source": [
        "**Teachable Machine Model training**"
      ],
      "metadata": {
        "id": "UfrS01o5Zflo"
      }
    },
    {
      "cell_type": "markdown",
      "source": [
        "Teachable Machine is a web-based tool developed by Google that allows users to create machine learning models without needing to write any code. It provides an interface to train models using images, sounds, and poses. Users can then export these models for use in various applications, including websites, apps, and physical devices."
      ],
      "metadata": {
        "id": "qFcx5bjTeg5M"
      }
    },
    {
      "cell_type": "markdown",
      "source": [
        "Teachable Machine Model [Link](https://teachablemachine.withgoogle.com/models/7PwjAs8NW/)"
      ],
      "metadata": {
        "id": "ziFCTP0BeYG9"
      }
    },
    {
      "cell_type": "markdown",
      "source": [
        "I explored using Teachable Machine and created a model that categorizes and identifies between clapping and whistling sounds. The tool was incredibly user-friendly and easy to understand, making it fairly simple to get get a feel for the basics of machine learning without writing any code. while training my clap/whistle model, I began to think about potential applications for my wine-making IoT device.\n",
        "\n",
        "The ease of use and immediate feedback from Teachable Machine got me thinking about various classifications within the wine-making process, such as identifying different fermentation stages through images of the wine barrel or sound, monitoring weather conditions, or even distinguishing between various types of grape ripeness. It sparked new ideas on how machine learning could enhance the efficiency and accuracy of my IoT solutions in winemaking. I wonder if there is a way to create a model, export it and use it in Google collabs."
      ],
      "metadata": {
        "id": "3jlStBYnZg5J"
      }
    }
  ]
}