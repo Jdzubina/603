{
  "nbformat": 4,
  "nbformat_minor": 0,
  "metadata": {
    "colab": {
      "provenance": []
    },
    "kernelspec": {
      "name": "python3",
      "display_name": "Python 3"
    },
    "language_info": {
      "name": "python"
    }
  },
  "cells": [
    {
      "cell_type": "markdown",
      "source": [
        "**AI and its history**"
      ],
      "metadata": {
        "id": "H2EOe71bKDTw"
      }
    },
    {
      "cell_type": "markdown",
      "source": [
        "Artificial Intelligence (AI) is the ability of machines to mimic human intelligence, performing tasks such as visual perception, speech recognition, and decision-making.\n",
        "\n",
        "The concept of AI emerged in the mid-20th century with the idea that machines could be programmed to think and learn like humans by using available information and reason to solve problems and make decisions. Early research focused on problem-solving using formal rules and logic. Over time, the field expanded to include machine learning and deep learning, which allow machines to learn from data and improve their performance over time. Today, AI is integrated into various industries, including healthcare, finance, transportation, and entertainment. It powers technologies such as virtual assistants, autonomous vehicles, predictive analytics, and personalized recommendations."
      ],
      "metadata": {
        "id": "4hv1SosgKFm8"
      }
    },
    {
      "cell_type": "markdown",
      "source": [
        "\n",
        "\n",
        "*   1950: Alan Turing introduces the concept of intelligent machines and how to test their intelligence with his \"Computing Machinery and Intelligence\" paper. proposing the Turing Test.\n",
        "\n",
        "*   1956: Allen Newell, Cliff Shaw, and Herbert Simon’s create Logic Theorist. The Logic Theorist was a program designed to mimic the problem solving skills of a human\n",
        "\n",
        "*   1957 to 1974, AI flourished. Computers could store more information and became faster, cheaper, and more accessible.\n",
        "\n",
        "*   1966: ELIZA, the first chatbot, is created by Joseph Weizenbaum.\n",
        "\n",
        "*   Defense Advanced Research Projects Agency (DARPA) funded AI research at several institutions\n",
        "\n",
        "\n",
        "*   1975 to 1979, unmet expectations let to reduced funding. AI lacked the computational power to do anything substantial: computers simply couldn’t store enough information or process it fast enough.\n",
        "\n",
        "\n",
        "*   1980’s, AI was reignited by two sources: an expansion of the algorithmic toolkit, and a boost of funds\n",
        "\n",
        "\n",
        "*   John Hopfield and David Rumelhart popularized “deep learning” techniques which allowed computers to learn using experience.\n",
        "\n",
        "*   Edward Feigenbaum introduced expert systems which mimicked the decision making process of a human expert. The program would ask an expert in a field how to respond in a given situation, and once this was learned for virtually every situation, non-experts could receive advice from that program.\n",
        "\n",
        "*   1982 to 1990, Japanese government heavily funded expert systems and other AI related endeavors as part of their Fifth Generation Computer Project (FGCP)\n",
        "\n",
        "*   1990s and 2000s, many of the landmark goals of artificial intelligence had been achieved.\n",
        "\n",
        "*   1997, reigning world chess champion and grand master Gary Kasparov was defeated by IBM’s Deep Blue, a chess playing computer program.\n",
        "\n",
        "*   1997, Dragon Systems develops the first consumer facing AI powered speech recognition software on Windows.\n",
        "\n",
        "*   Today,  artificial intelligence is integrated into many different industries such as technology, banking, marketing, and entertainment.\n",
        "\n",
        "\n",
        "\n",
        "\n",
        "\n"
      ],
      "metadata": {
        "id": "uXUdNDioLHi9"
      }
    },
    {
      "cell_type": "markdown",
      "source": [
        "**Excel - XLSX format**"
      ],
      "metadata": {
        "id": "qtHNO8MTMGZV"
      }
    },
    {
      "cell_type": "markdown",
      "source": [
        "Excel is a popular file format for storing and visualizing data. It's part of the Microsoft Office suite. Excel files (XLSX) are used for importing and exporting data for data storage and management as well as data analysis and visualization.\n",
        "\n",
        "XLSX files can be used to log data collected from IoT sensors. This can include environmental data (temperature, humidity), usage data (device operation times), and more. They are ideal for storing tabular data with rows and columns, making it easy to manage large datasets. The file type supports various data types, including text, numbers, dates, and times. Excel can be used to generate reports that summarize key findings, data insights, and model performance."
      ],
      "metadata": {
        "id": "lLHlM4nvX6In"
      }
    },
    {
      "cell_type": "code",
      "source": [
        "# Create a new workbook\n",
        "wb = Workbook()\n",
        "\n",
        "# Get the active worksheet\n",
        "ws = wb.active\n",
        "\n",
        "# Change sheet name\n",
        "ws.title = \"Demo Name\"\n",
        "\n",
        "# Adding a single row (example: adding a row with values)\n",
        "ws.append([\"Value 1\", \"Value 2\", \"Value 3\"])\n",
        "\n",
        "# Adding data to the worksheet\n",
        "ws['A1'] = \"Hello, World!\"\n",
        "\n",
        "# Creating a new sheet\n",
        "wsheet2 = wb.create_sheet(\"Sheet 2\")\n",
        "\n",
        "# Assigning the cell corresponding to\n",
        "# column A and row 10 a value of 5\n",
        "wsheet2['A10'] = 5\n",
        "#or\n",
        "ws.cell(column=1, row=10, value=5)\n",
        "\n",
        "# Save the workbook to a file\n",
        "wb.save(\"filesavetest.xlsx\")"
      ],
      "metadata": {
        "id": "ZvJPako6K3QZ"
      },
      "execution_count": null,
      "outputs": []
    },
    {
      "cell_type": "code",
      "source": [
        "from openpyxl import Workbook\n",
        "# from openpyxl.compat import range <-- Removed because standard range function can be used directly.\n",
        "from openpyxl.utils import get_column_letter\n",
        "\n",
        "# Create a new workbook\n",
        "wb = Workbook()\n",
        "dest_filename = 'empty_book.xlsx'\n",
        "\n",
        "# Get the active worksheet and set its title\n",
        "ws1 = wb.active\n",
        "ws1.title = \"range names\"\n",
        "\n",
        "# Populate the \"range names\" sheet with data\n",
        "for row in range(1, 40):\n",
        "    ws1.append(range(0, 100, 5))\n",
        "\n",
        "# Create a new sheet titled \"Pi\"\n",
        "ws2 = wb.create_sheet(title=\"Pi\")\n",
        "ws2['F5'] = 2 * 3.14\n",
        "ws2.cell(column=1, row=5, value=3.14)\n",
        "\n",
        "# Create another new sheet titled \"Data\"\n",
        "ws3 = wb.create_sheet(title=\"Data\")\n",
        "for row in range(1, 20):\n",
        "    for col in range(1, 15):\n",
        "        ws3.cell(column=col, row=row, value=\"{0}\".format(get_column_letter(col)))\n",
        "\n",
        "# Print the value of cell A10 in the \"Data\" sheet\n",
        "print(ws3['A10'].value)\n",
        "\n",
        "# Save the workbook to a file\n",
        "wb.save(filename=dest_filename)\n",
        "\n"
      ],
      "metadata": {
        "colab": {
          "base_uri": "https://localhost:8080/"
        },
        "id": "1wPPcFLQf0r7",
        "outputId": "e03671be-12a7-40a6-c139-5ce75580afdc"
      },
      "execution_count": null,
      "outputs": [
        {
          "output_type": "stream",
          "name": "stdout",
          "text": [
            "A\n"
          ]
        }
      ]
    },
    {
      "cell_type": "code",
      "source": [
        "# Reading from xlsx file\n",
        "\n",
        "from openpyxl import load_workbook\n",
        "wb = load_workbook(filename = 'filesavetest.xlsx')\n",
        "sheet_ranges = wb['Sheet 2']\n",
        "print(wb.get_sheet_names())\n",
        "print(sheet_ranges['A10'].value)"
      ],
      "metadata": {
        "id": "cmmq4kvFZn_i",
        "colab": {
          "base_uri": "https://localhost:8080/"
        },
        "outputId": "baf7d0c6-ec0b-47e0-a205-d2c138d6dd43"
      },
      "execution_count": null,
      "outputs": [
        {
          "output_type": "stream",
          "name": "stdout",
          "text": [
            "['Demo Name', 'Sheet 2']\n",
            "5\n"
          ]
        },
        {
          "output_type": "stream",
          "name": "stderr",
          "text": [
            "<ipython-input-51-df4cc118bf7e>:5: DeprecationWarning: Call to deprecated function get_sheet_names (Use wb.sheetnames).\n",
            "  print(wb.get_sheet_names())\n"
          ]
        }
      ]
    },
    {
      "cell_type": "markdown",
      "source": [
        "**Using pandas with XLSX files**"
      ],
      "metadata": {
        "id": "DieuNgU0gwEZ"
      }
    },
    {
      "cell_type": "markdown",
      "source": [
        "Using pandas to read an Excel file, manipulate, and saves it.\n",
        "\n"
      ],
      "metadata": {
        "id": "HhsNvgr8gxfh"
      }
    },
    {
      "cell_type": "code",
      "source": [
        "# Importing pandas library\n",
        "import pandas as pd\n",
        "\n",
        "#reading excel file\n",
        "df = pd.read_excel(\"empty_book.xlsx\", sheet_name=0)\n",
        "df.describe()\n",
        "\n",
        "# Modifying the contents by multyplying by 2\n",
        "result = df * 2\n",
        "\n",
        "# Writing changes to a new file\n",
        "result.describe()\n",
        "result.to_excel(\"empty_book_modified.xlsx\")"
      ],
      "metadata": {
        "id": "uzVGhl67iEN8"
      },
      "execution_count": null,
      "outputs": []
    },
    {
      "cell_type": "markdown",
      "source": [
        "In the past I've used excel files to to manage and analyze large data related to user research, survey results, and usability testing. I've used it to generating chart to visualize trends and insights from UX related research for readout presentations.\n",
        "\n",
        "I've also used it for planning and tracking project timelines in roadmaps and organizing quality assurance bug hunts to look for code errors in new features the team I've working with has shipped."
      ],
      "metadata": {
        "id": "USFpx40okzqu"
      }
    },
    {
      "cell_type": "markdown",
      "source": [
        "**JSON format**"
      ],
      "metadata": {
        "id": "UGXo6fUDkU7K"
      }
    },
    {
      "cell_type": "markdown",
      "source": [
        "JSON (JavaScript Object Notation) is a lightweight data interchange format that is easy for humans to read and write, and easy for machines to parse and generate. It's a versatile and widely-used format for data exchange, configuration, storage."
      ],
      "metadata": {
        "id": "yrh4geXKkaki"
      }
    },
    {
      "cell_type": "code",
      "source": [
        "import os\n",
        "import json\n",
        "from pprint import pprint\n",
        "\n",
        "# Define the file path\n",
        "data_folder = \"/content/zips.json\"\n",
        "\n",
        "with open(os.path.join(data_folder)) as json_file:\n",
        "    data = json.load(json_file)  # Load the entire file content as a JSON array\n",
        "    for json_data, i in zip(data, range(10)):  # Iterate over the first 10 items\n",
        "        pprint(json_data)"
      ],
      "metadata": {
        "colab": {
          "base_uri": "https://localhost:8080/"
        },
        "id": "B2PcJjxurwYe",
        "outputId": "5adbec14-8806-496b-c7bf-d8adf23bd110"
      },
      "execution_count": null,
      "outputs": [
        {
          "output_type": "stream",
          "name": "stdout",
          "text": [
            "{'_id': '01701',\n",
            " 'city': 'FRAMINGHAM',\n",
            " 'loc': [-71.425486, 42.300665],\n",
            " 'pop': 65046,\n",
            " 'state': 'MA'}\n",
            "{'_id': '02154',\n",
            " 'city': 'NORTH WALTHAM',\n",
            " 'loc': [-71.236497, 42.382492],\n",
            " 'pop': 57871,\n",
            " 'state': 'MA'}\n",
            "{'_id': '02401',\n",
            " 'city': 'BROCKTON',\n",
            " 'loc': [-71.034348, 42.081571],\n",
            " 'pop': 59498,\n",
            " 'state': 'MA'}\n",
            "{'_id': '02840',\n",
            " 'city': 'MIDDLETOWN',\n",
            " 'loc': [-71.30348, 41.504502],\n",
            " 'pop': 47687,\n",
            " 'state': 'RI'}\n",
            "{'_id': '02860',\n",
            " 'city': 'PAWTUCKET',\n",
            " 'loc': [-71.390713, 41.872873],\n",
            " 'pop': 45442,\n",
            " 'state': 'RI'}\n",
            "{'_id': '02895',\n",
            " 'city': 'NORTH SMITHFIELD',\n",
            " 'loc': [-71.513683, 41.99948],\n",
            " 'pop': 53733,\n",
            " 'state': 'RI'}\n",
            "{'_id': '03060',\n",
            " 'city': 'NASHUA',\n",
            " 'loc': [-71.466684, 42.756395],\n",
            " 'pop': 41438,\n",
            " 'state': 'NH'}\n",
            "{'_id': '03103',\n",
            " 'city': 'MANCHESTER',\n",
            " 'loc': [-71.449325, 42.965563],\n",
            " 'pop': 36613,\n",
            " 'state': 'NH'}\n",
            "{'_id': '03301',\n",
            " 'city': 'CONCORD',\n",
            " 'loc': [-71.527734, 43.218525],\n",
            " 'pop': 34035,\n",
            " 'state': 'NH'}\n",
            "{'_id': '04240',\n",
            " 'city': 'LEWISTON',\n",
            " 'loc': [-70.191619, 44.098538],\n",
            " 'pop': 40173,\n",
            " 'state': 'ME'}\n"
          ]
        }
      ]
    },
    {
      "cell_type": "code",
      "source": [
        "import os\n",
        "import pandas as pd\n",
        "\n",
        "# Define the file path\n",
        "data_file = \"/content/zips.json\"\n",
        "\n",
        "# Read the JSON file into a pandas DataFrame\n",
        "df = pd.read_json(data_file)\n",
        "print(df)"
      ],
      "metadata": {
        "colab": {
          "base_uri": "https://localhost:8080/"
        },
        "id": "_vA7m7VamSCU",
        "outputId": "6853d0cd-9d96-4a91-e58a-c54745b300e3"
      },
      "execution_count": null,
      "outputs": [
        {
          "output_type": "stream",
          "name": "stdout",
          "text": [
            "       _id           city                       loc    pop state\n",
            "0     1701     FRAMINGHAM   [-71.425486, 42.300665]  65046    MA\n",
            "1     2154  NORTH WALTHAM   [-71.236497, 42.382492]  57871    MA\n",
            "2     2401       BROCKTON   [-71.034348, 42.081571]  59498    MA\n",
            "3     2840     MIDDLETOWN    [-71.30348, 41.504502]  47687    RI\n",
            "4     2860      PAWTUCKET   [-71.390713, 41.872873]  45442    RI\n",
            "..     ...            ...                       ...    ...   ...\n",
            "144  98059         RENTON  [-122.151178, 47.467383]  48197    WA\n",
            "145  98310      BREMERTON  [-122.629913, 47.601916]  49057    WA\n",
            "146  99504      ANCHORAGE   [-149.74467, 61.203696]  32383    AK\n",
            "147  99709      FAIRBANKS   [-147.846917, 64.85437]  23238    AK\n",
            "148  99801         JUNEAU  [-134.529429, 58.362767]  24947    AK\n",
            "\n",
            "[149 rows x 5 columns]\n"
          ]
        }
      ]
    },
    {
      "cell_type": "markdown",
      "source": [
        "In the past I've used JSON files to add interactive animations and interactions to websites I've designed and developed. I've used various tools to create JSON files like Adobe After Effects, Solidworks and Spline Tool.\n",
        "\n",
        "I can create interactions with this framework. For examples playing a JSON file as the user scroles down the page."
      ],
      "metadata": {
        "id": "7kUlkwn5uWZk"
      }
    },
    {
      "cell_type": "code",
      "source": [],
      "metadata": {
        "id": "77ak_YXevEfU"
      },
      "execution_count": null,
      "outputs": []
    }
  ]
}