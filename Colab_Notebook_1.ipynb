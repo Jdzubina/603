{
  "nbformat": 4,
  "nbformat_minor": 0,
  "metadata": {
    "colab": {
      "provenance": [],
      "authorship_tag": "ABX9TyMvdj8nqxq3ANRjRf93m6gn",
      "include_colab_link": true
    },
    "kernelspec": {
      "name": "python3",
      "display_name": "Python 3"
    },
    "language_info": {
      "name": "python"
    }
  },
  "cells": [
    {
      "cell_type": "markdown",
      "metadata": {
        "id": "view-in-github",
        "colab_type": "text"
      },
      "source": [
        "<a href=\"https://colab.research.google.com/github/Jdzubina/Python---Data-and-AI/blob/main/Colab_Notebook_1.ipynb\" target=\"_parent\"><img src=\"https://colab.research.google.com/assets/colab-badge.svg\" alt=\"Open In Colab\"/></a>"
      ]
    },
    {
      "cell_type": "markdown",
      "source": [
        "**IoT and its history**\n",
        "\n",
        "The Internet of Things (IoT) represents the interconnection of everyday objects through the internet, enabling them to send and receive data from real world interactions and perform actions based on that data. The term was coined by Kevin Ashton in 1999 during his work on RFID supply chains. Since then, IoT has continued to evolve, with applications ranging from smart homes and wearables to industrial automation and agriculture. Some examples of IoT device use cases include monitoring home security, tracking health metrics through wearables, and optimizing agricultural practices through monitoring of soil conditions.\n",
        "\n",
        "**Components that make up the IoT**\n",
        "\n",
        "The Internet of Things is a network of interconnected components that communicate and interact to provide smart solutions across digital and physical mediums. The main components of an IoT system include:\n",
        "\n",
        "*   Sensors - collect data from the environment - temperature, humidity, motion, and light etc, converting physical parameters into digital signals. This data is then processed and analyzed to make informed decisions\n",
        "*   Actuators - receive commands from the system to perform physical actions - turning on lights, adjusting thermostats, or opening and closing valves.\n",
        "*   Smartphones - user interfaces for controlling and monitoring IoT devices. Enable mobile access to IoT data and control through dedicated apps\n",
        "*   Networks - connect IoT devices to the internet\n",
        "*   IoT Devices - physical objects embedded with sensors, actuators, and connectivity capabilities\n",
        "*   Data Storage - systems for storing data collected by IoT devices - Databases, cloud etc\n",
        "Ensure data is accessible for analysis and historical reference\n",
        "*   Data Analytics - tools and algorithms for processing and analyzing IoT data\n",
        "Enable insights, predictions, and decision-making based on collected data\n",
        "\n",
        "**The IoT architecture has multiple layers**\n",
        "\n",
        "The IoT architecture is structured into multiple layers, each with a specific purpose\n",
        "\n",
        "*  Perception layer - responsible for data collection through sensors and actuators\n",
        "*   Network layer - handles data transmission and connectivity. Bluetooth. WiFi etc\n",
        "*   Processing layer - data is aggregated, processed, and analyzed using AI and machine learning algorithms\n",
        "*   Application layer - provides the end-user services and interfaces for interaction with the IoT system."
      ],
      "metadata": {
        "id": "9r5By_MEPaAn"
      }
    },
    {
      "cell_type": "markdown",
      "source": [
        "**TXT Format**\n",
        "\n",
        "TXT files are plain text files used to store data in a simple, readable format. They are commonly used for logging data from IoT sensors due to their simplicity and ease of use."
      ],
      "metadata": {
        "id": "_UPn4K6pnWqX"
      }
    },
    {
      "cell_type": "code",
      "source": [
        "\n",
        "data_folder = '/content/Chapter 2'\n",
        "data_file = '/content/Chapter 2/t8.shakespeare.txt'\n",
        "\n",
        "f = open(data_file)\n",
        "\n",
        "contents = f.read()\n",
        "\n",
        "print(contents[:1000])\n"
      ],
      "metadata": {
        "id": "-ULFkYgFPl0F",
        "colab": {
          "base_uri": "https://localhost:8080/"
        },
        "outputId": "ae5f5f76-304f-44fe-9006-2ad4dc339251"
      },
      "execution_count": null,
      "outputs": [
        {
          "output_type": "stream",
          "name": "stdout",
          "text": [
            "This is the 100th Etext file presented by Project Gutenberg, and\n",
            "is presented in cooperation with World Library, Inc., from their\n",
            "Library of the Future and Shakespeare CDROMS.  Project Gutenberg\n",
            "often releases Etexts that are NOT placed in the Public Domain!!\n",
            "\n",
            "Shakespeare\n",
            "\n",
            "*This Etext has certain copyright implications you should read!*\n",
            "\n",
            "<<THIS ELECTRONIC VERSION OF THE COMPLETE WORKS OF WILLIAM\n",
            "SHAKESPEARE IS COPYRIGHT 1990-1993 BY WORLD LIBRARY, INC., AND IS\n",
            "PROVIDED BY PROJECT GUTENBERG ETEXT OF ILLINOIS BENEDICTINE COLLEGE\n",
            "WITH PERMISSION.  ELECTRONIC AND MACHINE READABLE COPIES MAY BE\n",
            "DISTRIBUTED SO LONG AS SUCH COPIES (1) ARE FOR YOUR OR OTHERS\n",
            "PERSONAL USE ONLY, AND (2) ARE NOT DISTRIBUTED OR USED\n",
            "COMMERCIALLY.  PROHIBITED COMMERCIAL DISTRIBUTION INCLUDES BY ANY\n",
            "SERVICE THAT CHARGES FOR DOWNLOAD TIME OR FOR MEMBERSHIP.>>\n",
            "\n",
            "*Project Gutenberg is proud to cooperate with The World Library*\n",
            "in the presentation of The Complete Works of William Shakespeare\n",
            "for your reading for educatio\n"
          ]
        }
      ]
    },
    {
      "cell_type": "markdown",
      "source": [
        "**Data Set Description**\n",
        "\n",
        "The text from the TXT.file is printed with HTML."
      ],
      "metadata": {
        "id": "ZDckPO0Gy4VL"
      }
    },
    {
      "cell_type": "markdown",
      "source": [
        "**Example use cases**\n",
        "\n",
        "TXT files are used in IoT systems to log sensor data with timestamps. An example may be temperature sensors might log readings to a TXT file every minute or storing data from sensors measuring air quality, water quality, and weather conditions."
      ],
      "metadata": {
        "id": "TIlnhbfXnLES"
      }
    },
    {
      "cell_type": "markdown",
      "source": [
        "**Experience**\n",
        "\n",
        "This exercise has given me a good understanding of how to read TXT files and their general uses in the context of IoT and how it's used for dataloging. I was able to open and read the it's contents, printing the first 1,000 characters. This will be useful for managing and analyzing IoT sensor data and reading data from sensors for analysis.\n",
        "\n",
        "At first I tried to pass only the file name as the datafile and I recieved an error. For it to work I had to pass the path. I don't understand why."
      ],
      "metadata": {
        "id": "2tC9FPJLoxdT"
      }
    },
    {
      "cell_type": "markdown",
      "source": [
        "**CSV Format**\n",
        "\n",
        "Comma-Separated Values (CSV) files are a simple and widely used format for storing tabular data. Each line in a CSV file represents a data record, with fields separated by commas. In IoT, CSV files are used to log sensor data, store configuration settings, and facilitate data transfer between IoT devices and cloud-based systems."
      ],
      "metadata": {
        "id": "hSTpmW7NtUWy"
      }
    },
    {
      "cell_type": "code",
      "source": [
        "data_folder = '/content/Chapter 2'\n",
        "data_file = 'household_power_consumption.csv'\n",
        "\n",
        "import csv\n",
        "import os\n",
        "\n",
        "with open(os.path.join(data_folder,data_file),newline='') as csvfile:\n",
        " csvreader = csv.reader(csvfile)\n",
        " for i, row in zip(range(10), csvreader):\n",
        "        print(row)"
      ],
      "metadata": {
        "colab": {
          "base_uri": "https://localhost:8080/"
        },
        "id": "1Lzlz211CtOv",
        "outputId": "8fe23367-7c6b-437c-a353-bc90853f075e"
      },
      "execution_count": null,
      "outputs": [
        {
          "output_type": "stream",
          "name": "stdout",
          "text": [
            "['Date', 'Time', 'Global_active_power', 'Global_reactive_power', 'Voltage', 'Global_intensity', 'Sub_metering_1', 'Sub_metering_2', 'Sub_metering_3']\n",
            "['16/12/2006', '17:24:00', '4.216', '0.418', '234.840', '18.400', '0.000', '1.000', '17.000']\n",
            "['16/12/2006', '17:25:00', '5.360', '0.436', '233.630', '23.000', '0.000', '1.000', '16.000']\n",
            "['16/12/2006', '17:26:00', '5.374', '0.498', '233.290', '23.000', '0.000', '2.000', '17.000']\n",
            "['16/12/2006', '17:27:00', '5.388', '0.502', '233.740', '23.000', '0.000', '1.000', '17.000']\n",
            "['16/12/2006', '17:28:00', '3.666', '0.528', '235.680', '15.800', '0.000', '1.000', '17.000']\n",
            "['16/12/2006', '17:29:00', '3.520', '0.522', '235.020', '15.000', '0.000', '2.000', '17.000']\n",
            "['16/12/2006', '17:30:00', '3.702', '0.520', '235.090', '15.800', '0.000', '1.000', '17.000']\n",
            "['16/12/2006', '17:31:00', '3.700', '0.520', '235.220', '15.800', '0.000', '1.000', '17.000']\n",
            "['16/12/2006', '17:32:00', '3.668', '0.510', '233.990', '15.800', '0.000', '1.000', '17.000']\n",
            "['16/12/2006', '17:33:00', '3.662', '0.510', '233.860', '15.800', '0.000', '2.000', '16.000']\n",
            "['16/12/2006', '17:34:00', '4.448', '0.498', '232.860', '19.600', '0.000', '1.000', '17.000']\n"
          ]
        }
      ]
    },
    {
      "cell_type": "markdown",
      "source": [
        "**Data Set Description**\n",
        "\n",
        "In the example above I was able to print up to a specified row range of the data set."
      ],
      "metadata": {
        "id": "iM24BbtLJaJg"
      }
    },
    {
      "cell_type": "code",
      "source": [
        "data_folder = '/content/Notebook 1 Samples - Chapter 2'\n",
        "data_file = 'household_power_consumption.csv'\n",
        "\n",
        "import csv\n",
        "import os\n",
        "\n",
        "# read the file and write first ten rows\n",
        "with open(os.path.join(data_folder, data_file), newline='') as csvfile, \\\n",
        " open(os.path.join(data_folder, 'temp1.csv'), 'w', newline='') as tempfile:\n",
        " csvreader = csv.reader(csvfile)\n",
        " csvwriter = csv.writer(tempfile)\n",
        " for row, i in zip(csvreader, range(10)):\n",
        "   csvwriter.writerow(row)\n",
        "# read and print the newly written file\n",
        "with open(os.path.join(data_folder, 'temp.csv'), newline='') as tempfile:\n",
        " csvreader = csv.reader(tempfile)\n",
        " for row in csvreader:\n",
        "   print(row)"
      ],
      "metadata": {
        "colab": {
          "base_uri": "https://localhost:8080/"
        },
        "id": "quQySL0-FppC",
        "outputId": "0e00b3e9-887d-4aec-9e6c-7d2809ba03d0"
      },
      "execution_count": null,
      "outputs": [
        {
          "output_type": "stream",
          "name": "stdout",
          "text": [
            "['Date', 'Time', 'Global_active_power', 'Global_reactive_power', 'Voltage', 'Global_intensity', 'Sub_metering_1', 'Sub_metering_2', 'Sub_metering_3']\n",
            "['16/12/2006', '17:24:00', '4.216', '0.418', '234.840', '18.400', '0.000', '1.000', '17.000']\n",
            "['16/12/2006', '17:25:00', '5.360', '0.436', '233.630', '23.000', '0.000', '1.000', '16.000']\n",
            "['16/12/2006', '17:26:00', '5.374', '0.498', '233.290', '23.000', '0.000', '2.000', '17.000']\n",
            "['16/12/2006', '17:27:00', '5.388', '0.502', '233.740', '23.000', '0.000', '1.000', '17.000']\n",
            "['16/12/2006', '17:28:00', '3.666', '0.528', '235.680', '15.800', '0.000', '1.000', '17.000']\n",
            "['16/12/2006', '17:29:00', '3.520', '0.522', '235.020', '15.000', '0.000', '2.000', '17.000']\n",
            "['16/12/2006', '17:30:00', '3.702', '0.520', '235.090', '15.800', '0.000', '1.000', '17.000']\n",
            "['16/12/2006', '17:31:00', '3.700', '0.520', '235.220', '15.800', '0.000', '1.000', '17.000']\n",
            "['16/12/2006', '17:32:00', '3.668', '0.510', '233.990', '15.800', '0.000', '1.000', '17.000']\n"
          ]
        }
      ]
    },
    {
      "cell_type": "markdown",
      "source": [
        "In the example above I was able to read the existing CSV file that I had and write them to another temporary file. I was then able to read the new file and print it's contents."
      ],
      "metadata": {
        "id": "FLmLmc87KBBU"
      }
    },
    {
      "cell_type": "code",
      "source": [
        "data_folder = '/content/Notebook 1 Samples - Chapter 2'\n",
        "data_file = 'household_power_consumption.csv'\n",
        "\n",
        "import csv\n",
        "import os\n",
        "\n",
        " # read the file and write first ten rows with '|' delimiter\n",
        "with open(os.path.join(data_folder, data_file), newline='') as csvfile, \\\n",
        " open(os.path.join(data_folder, 'temp.csv'), 'w', newline='') as tempfile:\n",
        "  csvreader = csv.reader(csvfile)\n",
        "  csvwriter = csv.writer(tempfile, delimiter='|')\n",
        "  for row, i in zip(csvreader, range(10)):\n",
        "   csvwriter.writerow(row)\n",
        "\n",
        "# read and print the newly written file\n",
        "with open(os.path.join(data_folder, 'temp.csv'), newline='') as tempfile:\n",
        "  ##The delimetor can be changed by removing , delimiter='|'\n",
        "  ##if a delimiter character is not specified when the file is read, the rows will be read as the delimeter character specified above\n",
        " csvreader = csv.reader(tempfile)\n",
        " for row in csvreader:\n",
        "  print(row)"
      ],
      "metadata": {
        "colab": {
          "base_uri": "https://localhost:8080/"
        },
        "id": "dQFBQIwPG2Ko",
        "outputId": "c8bb2243-97a0-4f9e-b7fb-43142ca2e459"
      },
      "execution_count": null,
      "outputs": [
        {
          "output_type": "stream",
          "name": "stdout",
          "text": [
            "['Date|Time|Global_active_power|Global_reactive_power|Voltage|Global_intensity|Sub_metering_1|Sub_metering_2|Sub_metering_3']\n",
            "['16/12/2006|17:24:00|4.216|0.418|234.840|18.400|0.000|1.000|17.000']\n",
            "['16/12/2006|17:25:00|5.360|0.436|233.630|23.000|0.000|1.000|16.000']\n",
            "['16/12/2006|17:26:00|5.374|0.498|233.290|23.000|0.000|2.000|17.000']\n",
            "['16/12/2006|17:27:00|5.388|0.502|233.740|23.000|0.000|1.000|17.000']\n",
            "['16/12/2006|17:28:00|3.666|0.528|235.680|15.800|0.000|1.000|17.000']\n",
            "['16/12/2006|17:29:00|3.520|0.522|235.020|15.000|0.000|2.000|17.000']\n",
            "['16/12/2006|17:30:00|3.702|0.520|235.090|15.800|0.000|1.000|17.000']\n",
            "['16/12/2006|17:31:00|3.700|0.520|235.220|15.800|0.000|1.000|17.000']\n",
            "['16/12/2006|17:32:00|3.668|0.510|233.990|15.800|0.000|1.000|17.000']\n"
          ]
        }
      ]
    },
    {
      "cell_type": "markdown",
      "source": [
        "In the example above I learned how to change the delimeter. The delimeter specifies the chacracter used to separate values the in the csv file. The most common delimiter is a comma (,), but other delimiters such as semicolons (;), tabs (\\t), or pipes (|) can also be used.\n",
        "\n",
        "Here I changed the delimetor from , to | by removing the a specification for the delimetor in the new print.  The delimetor can be changed by removing , delimiter='|' if a delimiter character is not specified when the file is read, the rows will be read as the delimeter character specified above"
      ],
      "metadata": {
        "id": "c2KDsl1wKT8n"
      }
    },
    {
      "cell_type": "code",
      "source": [
        "data_folder = '/content/Notebook 1 Samples - Chapter 2'\n",
        "data_file = 'household_power_consumption.csv'\n",
        "\n",
        "import csv\n",
        "import os\n",
        "\n",
        "# read the file and write first ten rows with '|' delimiter, all quoting and * as a quote character.\n",
        "with open(os.path.join(data_folder, data_file), newline='') as csvfile, \\\n",
        " open('temp.csv', 'w', newline='') as tempfile:\n",
        " csvreader = csv.reader(csvfile)\n",
        " csvwriter = csv.writer(tempfile, delimiter='|', quotechar='*', quoting=csv.QUOTE_ALL)\n",
        " for row, i in zip(csvreader, range(10)):\n",
        "  csvwriter.writerow(row)\n",
        "\n",
        "# read and print the newly written file\n",
        "with open(os.path.join(data_folder, 'temp.csv'), newline='') as tempfile:\n",
        " csvreader = csv.reader(tempfile, delimiter='|', quotechar='*', quoting=csv.QUOTE_ALL)\n",
        " for row in csvreader:\n",
        "  print(row)"
      ],
      "metadata": {
        "colab": {
          "base_uri": "https://localhost:8080/"
        },
        "id": "HuEgwkfsLCfj",
        "outputId": "3074cddc-5e31-4ffb-b923-20a4a28e9576"
      },
      "execution_count": null,
      "outputs": [
        {
          "output_type": "stream",
          "name": "stdout",
          "text": [
            "['Date', 'Time', 'Global_active_power', 'Global_reactive_power', 'Voltage', 'Global_intensity', 'Sub_metering_1', 'Sub_metering_2', 'Sub_metering_3']\n",
            "['16/12/2006', '17:24:00', '4.216', '0.418', '234.840', '18.400', '0.000', '1.000', '17.000']\n",
            "['16/12/2006', '17:25:00', '5.360', '0.436', '233.630', '23.000', '0.000', '1.000', '16.000']\n",
            "['16/12/2006', '17:26:00', '5.374', '0.498', '233.290', '23.000', '0.000', '2.000', '17.000']\n",
            "['16/12/2006', '17:27:00', '5.388', '0.502', '233.740', '23.000', '0.000', '1.000', '17.000']\n",
            "['16/12/2006', '17:28:00', '3.666', '0.528', '235.680', '15.800', '0.000', '1.000', '17.000']\n",
            "['16/12/2006', '17:29:00', '3.520', '0.522', '235.020', '15.000', '0.000', '2.000', '17.000']\n",
            "['16/12/2006', '17:30:00', '3.702', '0.520', '235.090', '15.800', '0.000', '1.000', '17.000']\n",
            "['16/12/2006', '17:31:00', '3.700', '0.520', '235.220', '15.800', '0.000', '1.000', '17.000']\n",
            "['16/12/2006', '17:32:00', '3.668', '0.510', '233.990', '15.800', '0.000', '1.000', '17.000']\n"
          ]
        }
      ]
    },
    {
      "cell_type": "markdown",
      "source": [
        "In the example above I read the existing csv file and formated a temp file with quoteshar. I was hoping to print the * by removing the argument like I did for the '|' delimeter but it printed as it should be.\n",
        "\n"
      ],
      "metadata": {
        "id": "-wDJ6yfqNz4U"
      }
    },
    {
      "cell_type": "code",
      "source": [
        "import pandas as pd\n",
        "df = pd.read_csv('/content/Chapter 2/household_power_consumption.csv')\n",
        "print(df)"
      ],
      "metadata": {
        "colab": {
          "base_uri": "https://localhost:8080/"
        },
        "id": "PfAuD06avRAi",
        "outputId": "b35eea41-0db9-455e-a69f-48da16fb8b15"
      },
      "execution_count": null,
      "outputs": [
        {
          "output_type": "stream",
          "name": "stdout",
          "text": [
            "              Date      Time Global_active_power Global_reactive_power  \\\n",
            "0       16/12/2006  17:24:00               4.216                 0.418   \n",
            "1       16/12/2006  17:25:00               5.360                 0.436   \n",
            "2       16/12/2006  17:26:00               5.374                 0.498   \n",
            "3       16/12/2006  17:27:00               5.388                 0.502   \n",
            "4       16/12/2006  17:28:00               3.666                 0.528   \n",
            "...            ...       ...                 ...                   ...   \n",
            "934424   25/9/2008  15:08:00               0.224                 0.084   \n",
            "934425   25/9/2008  15:09:00               0.224                 0.082   \n",
            "934426   25/9/2008  15:10:00               0.222                 0.082   \n",
            "934427   25/9/2008  15:11:00                0.22                 0.082   \n",
            "934428   25/9/2008  15:12:00                0.22                 0.084   \n",
            "\n",
            "        Voltage Global_intensity Sub_metering_1 Sub_metering_2  Sub_metering_3  \n",
            "0       234.840           18.400          0.000          1.000            17.0  \n",
            "1       233.630           23.000          0.000          1.000            16.0  \n",
            "2       233.290           23.000          0.000          2.000            17.0  \n",
            "3       233.740           23.000          0.000          1.000            17.0  \n",
            "4       235.680           15.800          0.000          1.000            17.0  \n",
            "...         ...              ...            ...            ...             ...  \n",
            "934424   239.25              1.0            0.0            0.0             1.0  \n",
            "934425   238.84              1.0            0.0            0.0             0.0  \n",
            "934426   238.79              1.0            0.0            0.0             1.0  \n",
            "934427   238.67              1.0            0.0            0.0             1.0  \n",
            "934428   239.56              1.0            0.0            0.0             0.0  \n",
            "\n",
            "[934429 rows x 9 columns]\n"
          ]
        },
        {
          "output_type": "stream",
          "name": "stderr",
          "text": [
            "<ipython-input-82-b719997cd408>:2: DtypeWarning: Columns (2,3,4,5,6,7) have mixed types. Specify dtype option on import or set low_memory=False.\n",
            "  df = pd.read_csv('/content/Chapter 2/household_power_consumption.csv')\n"
          ]
        }
      ]
    },
    {
      "cell_type": "markdown",
      "source": [
        "**Data Set Description**\n",
        "\n",
        "In this example I read the csv file with the pandas module. The headers and cells from the csv file are printed in a row in column format."
      ],
      "metadata": {
        "id": "hR_9JWuHy6Xw"
      }
    },
    {
      "cell_type": "code",
      "source": [
        "import numpy as np\n",
        "\n",
        "# Full path to the CSV file\n",
        "file_path = '/content/Notebook 1 Samples - Chapter 2/household_power_consumption.csv'\n",
        "\n",
        "arr = np.genfromtxt(file_path, skip_header=1, usecols=(2,3), delimiter=',')\n",
        "print(arr)"
      ],
      "metadata": {
        "id": "8nsQfjRxGV0_",
        "colab": {
          "base_uri": "https://localhost:8080/"
        },
        "outputId": "a82d4d16-8de2-4d80-f8f4-92085aa3d235"
      },
      "execution_count": null,
      "outputs": [
        {
          "output_type": "stream",
          "name": "stdout",
          "text": [
            "[[4.216 0.418]\n",
            " [5.36  0.436]\n",
            " [5.374 0.498]\n",
            " ...\n",
            " [0.222 0.082]\n",
            " [0.22  0.082]\n",
            " [0.22  0.084]]\n"
          ]
        }
      ]
    },
    {
      "cell_type": "markdown",
      "source": [
        "In the example above I was able to import the numpy module and create an array that specifes a skip header and the exact individual columns to include to print. I think this will be valuable when I'm filtering data to look for specific trends."
      ],
      "metadata": {
        "id": "NbJxy7AjR2Aq"
      }
    },
    {
      "cell_type": "markdown",
      "source": [
        "Example use cases\n",
        "\n",
        "CSV files can be used for:\n",
        "\n",
        "Log Sensor Data: Record readings from various sensors in a structured format.\n",
        "\n",
        "*   Log Sensor Data: Record readings from various sensors in a structured format.\n",
        "*   Configuration Management: Store configuration parameters for IoT devices\n",
        "*   Data Exchange: Serve as an intermediary format for exchanging data between different IoT systems or between IoT devices and cloud platforms.\n",
        "*   Data Analysis: Interpret data and generate insights.\n"
      ],
      "metadata": {
        "id": "3mlx7tb9uhGI"
      }
    },
    {
      "cell_type": "markdown",
      "source": [
        "**Experience**\n",
        "\n",
        " In this exercise I've learned about how to read and write data to the CSV format. I practiced reading and writing CSV files using Python's csv module and pandas module and how to use numpy for data handling and analysis, such as creating arrays from specific columns. I was able to specify the scope of reading and writing csv data and print specicic columns and rows, and then write these rows to a new file. I also explored changing delimiters and handling quoted data. In the context of IoT I can see how this knowledge is useful for processing and analyzing large datasets in various IoT applications."
      ],
      "metadata": {
        "id": "lrRgZMs_yTMO"
      }
    },
    {
      "cell_type": "markdown",
      "source": [
        "**Python**\n",
        "\n",
        "Python is a versatile programming language that plays an important role in the development and function of IoT systems. It provides a clear interface to manipulate and analze data. It can be used to train artificial intelligence models and run scripts for automations and device control."
      ],
      "metadata": {
        "id": "TcRG1OuD1PDY"
      }
    },
    {
      "cell_type": "code",
      "source": [
        "program_language_1 = \"Python\"\n",
        "program_language_2 = \"Java\"\n",
        "experience_level = \"novice\"\n",
        "\n",
        "if experience_level : \"novice\"\n",
        "print (\"I've have not used \" + program_language_1 + \" before, however, I've studied \" + program_language_2 + \" in the past. I believe it may come in handy since python and java are both object oriented programming languages.\")\n",
        "\n"
      ],
      "metadata": {
        "colab": {
          "base_uri": "https://localhost:8080/"
        },
        "id": "CBcx7pap2nrv",
        "outputId": "7add7919-7750-4973-965d-3a9358cbc2be"
      },
      "execution_count": null,
      "outputs": [
        {
          "output_type": "stream",
          "name": "stdout",
          "text": [
            "I've have not used Python before, however, I've studied Java in the past. I believe it may come in handy since python and java are both object oriented programming languages.\n"
          ]
        }
      ]
    },
    {
      "cell_type": "code",
      "source": [
        "import numpy as np\n",
        "\n",
        "class Format:\n",
        "    end = '\\033[0m'\n",
        "    underline = '\\033[4m'\n",
        "\n",
        "elements = np.array([\"IoT and its history (offer a broad summary of the concept and its uses)\", \"TXT files\", \"CSV files\", \"Python\"])\n",
        "\n",
        "print(\"I can do simple things like \" + \"comments, if then statements, booleans and arrays like this one: \" + Format.underline + \"For this notebook we are studying\", elements)"
      ],
      "metadata": {
        "colab": {
          "base_uri": "https://localhost:8080/"
        },
        "id": "MWodRkZi959n",
        "outputId": "6fb3028f-0c9e-4d0e-cd6c-f41d679372cc"
      },
      "execution_count": null,
      "outputs": [
        {
          "output_type": "stream",
          "name": "stdout",
          "text": [
            "I can do simple things like comments, if then statements, booleans and arrays like this one: \u001b[4mFor this notebook we are studying ['IoT and its history (offer a broad summary of the concept and its uses)'\n",
            " 'TXT files' 'CSV files' 'Python']\n"
          ]
        }
      ]
    },
    {
      "cell_type": "markdown",
      "source": [
        "**Experience**\n",
        "\n",
        " I haven't had much experience with Python, however, I have studied Java in the past. I believe my experience with Java may come in handy since Python and Java are both object-oriented programming languages.\n",
        "\n",
        " I can see that python will be useful for future IoT projects because it provides a clear inteface to record, manipulate and anaylze data."
      ],
      "metadata": {
        "id": "NCyn_Hs2YDYn"
      }
    },
    {
      "cell_type": "code",
      "source": [],
      "metadata": {
        "id": "nR7HrLidZyf9"
      },
      "execution_count": null,
      "outputs": []
    }
  ]
}